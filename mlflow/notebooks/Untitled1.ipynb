{
 "cells": [
  {
   "cell_type": "code",
   "execution_count": 1,
   "id": "39e2b00b-ef61-4f5b-bca7-a0071949d559",
   "metadata": {},
   "outputs": [],
   "source": [
    "import requests"
   ]
  },
  {
   "cell_type": "code",
   "execution_count": 6,
   "id": "4aaa2cc5-9ca2-4219-9256-4174508d9aeb",
   "metadata": {},
   "outputs": [],
   "source": [
    "url = 'http://localhost:5001/invocations'"
   ]
  },
  {
   "cell_type": "code",
   "execution_count": 9,
   "id": "3f983e72-8aa3-4ebc-b3c2-43c7ce2311ec",
   "metadata": {},
   "outputs": [],
   "source": [
    "data = {\n",
    "    'columns': ['tamanho', 'ano', 'garagem'],\n",
    "    'data': [[159.0, 2003, 2], [80, 2010, 4]]\n",
    "}"
   ]
  },
  {
   "cell_type": "code",
   "execution_count": 10,
   "id": "552dc70d-92ec-4f3a-833f-fe216e187e18",
   "metadata": {},
   "outputs": [],
   "source": [
    "headers = {'Content-Type': 'application/json'}"
   ]
  },
  {
   "cell_type": "code",
   "execution_count": 11,
   "id": "d2a6ddc5-aa05-4e6b-9058-b8527291d765",
   "metadata": {},
   "outputs": [
    {
     "data": {
      "text/plain": [
       "<Response [200]>"
      ]
     },
     "execution_count": 11,
     "metadata": {},
     "output_type": "execute_result"
    }
   ],
   "source": [
    "response = requests.post(url, json=data, headers=headers)\n",
    "response"
   ]
  },
  {
   "cell_type": "code",
   "execution_count": 12,
   "id": "7f55192f-6057-47ab-bea5-e0389761e0f7",
   "metadata": {},
   "outputs": [
    {
     "data": {
      "text/plain": [
       "[202609.09375, 188667.90625]"
      ]
     },
     "execution_count": 12,
     "metadata": {},
     "output_type": "execute_result"
    }
   ],
   "source": [
    "response.json()"
   ]
  },
  {
   "cell_type": "code",
   "execution_count": null,
   "id": "b226211a-f279-4d19-a745-3020e3abaf2e",
   "metadata": {},
   "outputs": [],
   "source": []
  }
 ],
 "metadata": {
  "kernelspec": {
   "display_name": "Python 3",
   "language": "python",
   "name": "python3"
  },
  "language_info": {
   "codemirror_mode": {
    "name": "ipython",
    "version": 3
   },
   "file_extension": ".py",
   "mimetype": "text/x-python",
   "name": "python",
   "nbconvert_exporter": "python",
   "pygments_lexer": "ipython3",
   "version": "3.8.5"
  }
 },
 "nbformat": 4,
 "nbformat_minor": 5
}
