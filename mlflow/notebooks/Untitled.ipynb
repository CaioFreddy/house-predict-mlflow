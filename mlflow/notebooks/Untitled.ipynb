{
 "cells": [
  {
   "cell_type": "code",
   "execution_count": 1,
   "id": "9033e851-a9b4-4cfc-ba98-3a27e1a216ef",
   "metadata": {},
   "outputs": [],
   "source": [
    "import pandas as pd"
   ]
  },
  {
   "cell_type": "code",
   "execution_count": 2,
   "id": "6e96815d-3314-40f5-8227-4c1c050c8eab",
   "metadata": {},
   "outputs": [],
   "source": [
    "df = pd.read_csv('../data/processed/casas.csv')"
   ]
  },
  {
   "cell_type": "code",
   "execution_count": 3,
   "id": "4cbb3fb7-a6f8-415d-a256-1d6b0b751833",
   "metadata": {},
   "outputs": [
    {
     "data": {
      "text/html": [
       "<div>\n",
       "<style scoped>\n",
       "    .dataframe tbody tr th:only-of-type {\n",
       "        vertical-align: middle;\n",
       "    }\n",
       "\n",
       "    .dataframe tbody tr th {\n",
       "        vertical-align: top;\n",
       "    }\n",
       "\n",
       "    .dataframe thead th {\n",
       "        text-align: right;\n",
       "    }\n",
       "</style>\n",
       "<table border=\"1\" class=\"dataframe\">\n",
       "  <thead>\n",
       "    <tr style=\"text-align: right;\">\n",
       "      <th></th>\n",
       "      <th>tamanho</th>\n",
       "      <th>ano</th>\n",
       "      <th>garagem</th>\n",
       "      <th>preco</th>\n",
       "    </tr>\n",
       "  </thead>\n",
       "  <tbody>\n",
       "    <tr>\n",
       "      <th>0</th>\n",
       "      <td>159.0</td>\n",
       "      <td>2003</td>\n",
       "      <td>2</td>\n",
       "      <td>208500</td>\n",
       "    </tr>\n",
       "    <tr>\n",
       "      <th>1</th>\n",
       "      <td>117.0</td>\n",
       "      <td>1976</td>\n",
       "      <td>2</td>\n",
       "      <td>181500</td>\n",
       "    </tr>\n",
       "    <tr>\n",
       "      <th>2</th>\n",
       "      <td>166.0</td>\n",
       "      <td>2001</td>\n",
       "      <td>2</td>\n",
       "      <td>223500</td>\n",
       "    </tr>\n",
       "    <tr>\n",
       "      <th>3</th>\n",
       "      <td>160.0</td>\n",
       "      <td>1915</td>\n",
       "      <td>3</td>\n",
       "      <td>140000</td>\n",
       "    </tr>\n",
       "    <tr>\n",
       "      <th>4</th>\n",
       "      <td>204.0</td>\n",
       "      <td>2000</td>\n",
       "      <td>3</td>\n",
       "      <td>250000</td>\n",
       "    </tr>\n",
       "  </tbody>\n",
       "</table>\n",
       "</div>"
      ],
      "text/plain": [
       "   tamanho   ano  garagem   preco\n",
       "0    159.0  2003        2  208500\n",
       "1    117.0  1976        2  181500\n",
       "2    166.0  2001        2  223500\n",
       "3    160.0  1915        3  140000\n",
       "4    204.0  2000        3  250000"
      ]
     },
     "execution_count": 3,
     "metadata": {},
     "output_type": "execute_result"
    }
   ],
   "source": [
    "df.head()"
   ]
  },
  {
   "cell_type": "code",
   "execution_count": 4,
   "id": "6c46cf56-33c0-4f04-baed-1c579ec433bf",
   "metadata": {},
   "outputs": [],
   "source": [
    "X = df.drop('preco', axis=1)\n",
    "y = df['preco'].copy()"
   ]
  },
  {
   "cell_type": "code",
   "execution_count": 5,
   "id": "aa6b3954-2439-4a7e-8765-36a2d2ab8a83",
   "metadata": {},
   "outputs": [
    {
     "data": {
      "text/html": [
       "<div>\n",
       "<style scoped>\n",
       "    .dataframe tbody tr th:only-of-type {\n",
       "        vertical-align: middle;\n",
       "    }\n",
       "\n",
       "    .dataframe tbody tr th {\n",
       "        vertical-align: top;\n",
       "    }\n",
       "\n",
       "    .dataframe thead th {\n",
       "        text-align: right;\n",
       "    }\n",
       "</style>\n",
       "<table border=\"1\" class=\"dataframe\">\n",
       "  <thead>\n",
       "    <tr style=\"text-align: right;\">\n",
       "      <th></th>\n",
       "      <th>tamanho</th>\n",
       "      <th>ano</th>\n",
       "      <th>garagem</th>\n",
       "    </tr>\n",
       "  </thead>\n",
       "  <tbody>\n",
       "    <tr>\n",
       "      <th>0</th>\n",
       "      <td>159.0</td>\n",
       "      <td>2003</td>\n",
       "      <td>2</td>\n",
       "    </tr>\n",
       "    <tr>\n",
       "      <th>1</th>\n",
       "      <td>117.0</td>\n",
       "      <td>1976</td>\n",
       "      <td>2</td>\n",
       "    </tr>\n",
       "    <tr>\n",
       "      <th>2</th>\n",
       "      <td>166.0</td>\n",
       "      <td>2001</td>\n",
       "      <td>2</td>\n",
       "    </tr>\n",
       "    <tr>\n",
       "      <th>3</th>\n",
       "      <td>160.0</td>\n",
       "      <td>1915</td>\n",
       "      <td>3</td>\n",
       "    </tr>\n",
       "    <tr>\n",
       "      <th>4</th>\n",
       "      <td>204.0</td>\n",
       "      <td>2000</td>\n",
       "      <td>3</td>\n",
       "    </tr>\n",
       "  </tbody>\n",
       "</table>\n",
       "</div>"
      ],
      "text/plain": [
       "   tamanho   ano  garagem\n",
       "0    159.0  2003        2\n",
       "1    117.0  1976        2\n",
       "2    166.0  2001        2\n",
       "3    160.0  1915        3\n",
       "4    204.0  2000        3"
      ]
     },
     "execution_count": 5,
     "metadata": {},
     "output_type": "execute_result"
    }
   ],
   "source": [
    "X.head()"
   ]
  },
  {
   "cell_type": "code",
   "execution_count": 6,
   "id": "e8fb9939-38e0-4aaa-8471-f480d9616d71",
   "metadata": {},
   "outputs": [],
   "source": [
    "from sklearn.model_selection import train_test_split\n",
    "\n",
    "X_train, X_test, y_train, y_test = train_test_split(X, y, test_size=0.3, random_state=42)"
   ]
  },
  {
   "cell_type": "code",
   "execution_count": 7,
   "id": "d8b2cc46-0d10-4e26-a65d-3bcd9e5ff8e6",
   "metadata": {},
   "outputs": [
    {
     "data": {
      "text/plain": [
       "(1022, 3)"
      ]
     },
     "execution_count": 7,
     "metadata": {},
     "output_type": "execute_result"
    }
   ],
   "source": [
    "X_train.shape"
   ]
  },
  {
   "cell_type": "code",
   "execution_count": 8,
   "id": "3e1f2f35-4c01-4bd0-811b-917ee6d028e6",
   "metadata": {},
   "outputs": [
    {
     "data": {
      "text/plain": [
       "(438, 3)"
      ]
     },
     "execution_count": 8,
     "metadata": {},
     "output_type": "execute_result"
    }
   ],
   "source": [
    "X_test.shape"
   ]
  },
  {
   "cell_type": "code",
   "execution_count": 9,
   "id": "21b0a4cf-6892-4793-9795-86f7eae52487",
   "metadata": {},
   "outputs": [],
   "source": [
    "import mlflow"
   ]
  },
  {
   "cell_type": "code",
   "execution_count": 10,
   "id": "3ea6330b-0361-4f22-bd78-c3678b05db27",
   "metadata": {},
   "outputs": [
    {
     "data": {
      "text/plain": [
       "'1'"
      ]
     },
     "execution_count": 10,
     "metadata": {},
     "output_type": "execute_result"
    }
   ],
   "source": [
    "mlflow.create_experiment('house-prices-eda')"
   ]
  },
  {
   "cell_type": "markdown",
   "id": "d972d198-878b-4029-9d61-791915fb70c1",
   "metadata": {},
   "source": [
    "# Regressao Linear"
   ]
  },
  {
   "cell_type": "code",
   "execution_count": 11,
   "id": "bc1816b7-4084-427d-931e-d3d73ab3234b",
   "metadata": {},
   "outputs": [
    {
     "data": {
      "text/plain": [
       "<ActiveRun: >"
      ]
     },
     "execution_count": 11,
     "metadata": {},
     "output_type": "execute_result"
    }
   ],
   "source": [
    "mlflow.start_run(experiment_id='1')"
   ]
  },
  {
   "cell_type": "code",
   "execution_count": 12,
   "id": "1885007a-8529-4c07-b41e-a921de445578",
   "metadata": {},
   "outputs": [
    {
     "data": {
      "text/plain": [
       "LinearRegression()"
      ]
     },
     "execution_count": 12,
     "metadata": {},
     "output_type": "execute_result"
    }
   ],
   "source": [
    "from sklearn.linear_model import LinearRegression\n",
    "\n",
    "lr = LinearRegression()\n",
    "lr.fit(X_train, y_train)"
   ]
  },
  {
   "cell_type": "code",
   "execution_count": 13,
   "id": "d9bfd015-9e80-4ca0-b7ce-b23293dc9c4e",
   "metadata": {},
   "outputs": [],
   "source": [
    "mlflow.sklearn.log_model(lr, 'lr')"
   ]
  },
  {
   "cell_type": "code",
   "execution_count": 14,
   "id": "fbec4913-04d6-4b6a-a3b1-f0e0669b8e76",
   "metadata": {},
   "outputs": [],
   "source": [
    "lr_pred = lr.predict(X_test)"
   ]
  },
  {
   "cell_type": "code",
   "execution_count": 15,
   "id": "0a590636-3744-4d3d-a7ee-0b3adf64cfae",
   "metadata": {},
   "outputs": [
    {
     "data": {
      "text/plain": [
       "tamanho      99.0\n",
       "ano        1963.0\n",
       "garagem       1.0\n",
       "Name: 892, dtype: float64"
      ]
     },
     "execution_count": 15,
     "metadata": {},
     "output_type": "execute_result"
    }
   ],
   "source": [
    "X_test.iloc[0]"
   ]
  },
  {
   "cell_type": "code",
   "execution_count": 16,
   "id": "42b3a8a5-b72e-42dd-a182-150295b2ff3b",
   "metadata": {},
   "outputs": [
    {
     "data": {
      "text/plain": [
       "154500"
      ]
     },
     "execution_count": 16,
     "metadata": {},
     "output_type": "execute_result"
    }
   ],
   "source": [
    "list(y_test)[0]"
   ]
  },
  {
   "cell_type": "code",
   "execution_count": 17,
   "id": "b6fe5dd0-8a03-47be-8bc3-4b4321863c49",
   "metadata": {},
   "outputs": [],
   "source": [
    "from sklearn.metrics import mean_squared_error, r2_score"
   ]
  },
  {
   "cell_type": "code",
   "execution_count": 18,
   "id": "f554d031-7323-4581-bca0-7d8ea5bc53d2",
   "metadata": {},
   "outputs": [],
   "source": [
    "import math\n",
    "\n",
    "mse = mean_squared_error(y_test, lr_pred) # erro quadrado médio\n",
    "rmse = math.sqrt(mse) # raiz qudrada erro medio\n",
    "r2 = r2_score(y_test, lr_pred) # r quadrado\n",
    "\n",
    "mlflow.log_metric('mse', mse)\n",
    "mlflow.log_metric('rmse', rmse)\n",
    "mlflow.log_metric('r2', r2)"
   ]
  },
  {
   "cell_type": "code",
   "execution_count": 19,
   "id": "f075ccf9-a7b2-4af4-8563-19637d9f6f1b",
   "metadata": {},
   "outputs": [
    {
     "data": {
      "text/plain": [
       "45592.39978251848"
      ]
     },
     "execution_count": 19,
     "metadata": {},
     "output_type": "execute_result"
    }
   ],
   "source": [
    "rmse"
   ]
  },
  {
   "cell_type": "code",
   "execution_count": 20,
   "id": "d3c0d86d-5b99-409e-8ed2-d0211c35c4b1",
   "metadata": {},
   "outputs": [
    {
     "data": {
      "text/plain": [
       "0.7021153642898048"
      ]
     },
     "execution_count": 20,
     "metadata": {},
     "output_type": "execute_result"
    }
   ],
   "source": [
    "r2"
   ]
  },
  {
   "cell_type": "code",
   "execution_count": 21,
   "id": "12295757-be9c-4b11-a8cb-86d2dc08cf1a",
   "metadata": {},
   "outputs": [],
   "source": [
    "mlflow.end_run()"
   ]
  },
  {
   "cell_type": "markdown",
   "id": "c3f85404-6775-4d39-ba07-c7e935e546b9",
   "metadata": {},
   "source": [
    "# XGB Regressor"
   ]
  },
  {
   "cell_type": "code",
   "execution_count": 22,
   "id": "08845f60-20c8-43d2-aa96-76db0208b79b",
   "metadata": {},
   "outputs": [],
   "source": [
    "from xgboost import XGBRFRegressor, XGBRegressor"
   ]
  },
  {
   "cell_type": "code",
   "execution_count": 23,
   "id": "935aafbb-4e07-46ae-a1b9-071d7355f9ca",
   "metadata": {},
   "outputs": [],
   "source": [
    "xgb_params = {\n",
    "    'learning_rate': 0.2,\n",
    "    'n_estimators': 50,\n",
    "    'random_state': 42\n",
    "}\n",
    "\n",
    "with mlflow.start_run(experiment_id='1'):\n",
    "    xgb = XGBRegressor(**xgb_params)\n",
    "    xgb.fit(X_train, y_train)\n",
    "    mlflow.xgboost.log_model(xgb, 'xgboost')\n",
    "    \n",
    "    xgb_pred = xgb.predict(X_test)\n",
    "    \n",
    "    mse = mean_squared_error(y_test, xgb_pred) # erro quadrado médio\n",
    "    rmse = math.sqrt(mse) # raiz qudrada erro medio\n",
    "    r2 = r2_score(y_test, xgb_pred)\n",
    "    \n",
    "    mlflow.log_metrics({'mse': mse, 'rmse': rmse, 'r2': r2})"
   ]
  },
  {
   "cell_type": "code",
   "execution_count": 24,
   "id": "98619a3e-0c31-493d-9d26-d05d936cd53d",
   "metadata": {},
   "outputs": [],
   "source": [
    "xgb_pred = xgb.predict(X_test)"
   ]
  },
  {
   "cell_type": "code",
   "execution_count": 25,
   "id": "5549b9ff-2b97-4f8c-a531-9a4371ae3ac9",
   "metadata": {},
   "outputs": [],
   "source": [
    "mse = mean_squared_error(y_test, xgb_pred) # erro quadrado médio\n",
    "rmse = math.sqrt(mse) # raiz qudrada erro medio\n",
    "r2 = r2_score(y_test, xgb_pred)"
   ]
  },
  {
   "cell_type": "code",
   "execution_count": 26,
   "id": "886be045-421b-408a-a4b8-d898d93c2737",
   "metadata": {},
   "outputs": [
    {
     "data": {
      "text/plain": [
       "1386727460.1346002"
      ]
     },
     "execution_count": 26,
     "metadata": {},
     "output_type": "execute_result"
    }
   ],
   "source": [
    "mse"
   ]
  },
  {
   "cell_type": "code",
   "execution_count": 27,
   "id": "cc22f7cc-077a-48c7-ae77-2d6e31448243",
   "metadata": {},
   "outputs": [
    {
     "data": {
      "text/plain": [
       "37238.789724353286"
      ]
     },
     "execution_count": 27,
     "metadata": {},
     "output_type": "execute_result"
    }
   ],
   "source": [
    "rmse"
   ]
  },
  {
   "cell_type": "code",
   "execution_count": 28,
   "id": "80b2043b-3ef4-45a9-a7b9-270da913f663",
   "metadata": {},
   "outputs": [
    {
     "data": {
      "text/plain": [
       "0.8012741720529797"
      ]
     },
     "execution_count": 28,
     "metadata": {},
     "output_type": "execute_result"
    }
   ],
   "source": [
    "r2"
   ]
  },
  {
   "cell_type": "code",
   "execution_count": 29,
   "id": "4b7fbcc4-cd6e-463f-ae26-6d91eaee74bf",
   "metadata": {},
   "outputs": [
    {
     "data": {
      "text/plain": [
       "<Experiment: artifact_location='file:///home/kyle/Projetos/house-prices-mlflow/mlflow/notebooks/mlruns/1', experiment_id='1', lifecycle_stage='active', name='house-prices-eda', tags={}>"
      ]
     },
     "execution_count": 29,
     "metadata": {},
     "output_type": "execute_result"
    }
   ],
   "source": [
    "mlflow.get_experiment('1')"
   ]
  },
  {
   "cell_type": "code",
   "execution_count": 30,
   "id": "ee8f7a70-6727-4909-87d3-a2a553471eaf",
   "metadata": {},
   "outputs": [
    {
     "data": {
      "text/plain": [
       "<Experiment: artifact_location='file:///home/kyle/Projetos/house-prices-mlflow/mlflow/notebooks/mlruns/1', experiment_id='1', lifecycle_stage='active', name='house-prices-eda', tags={}>"
      ]
     },
     "execution_count": 30,
     "metadata": {},
     "output_type": "execute_result"
    }
   ],
   "source": [
    "mlflow.get_experiment_by_name('house-prices-eda')"
   ]
  },
  {
   "cell_type": "code",
   "execution_count": 31,
   "id": "331aa111-b7f5-4a93-8648-959e9fab735e",
   "metadata": {},
   "outputs": [
    {
     "data": {
      "text/plain": [
       "[<RunInfo: artifact_uri='file:///home/kyle/Projetos/house-prices-mlflow/mlflow/notebooks/mlruns/1/ac601cfe750542e59e29c37c8c5ab29a/artifacts', end_time=1622043929531, experiment_id='1', lifecycle_stage='active', run_id='ac601cfe750542e59e29c37c8c5ab29a', run_uuid='ac601cfe750542e59e29c37c8c5ab29a', start_time=1622043929321, status='FINISHED', user_id='kyle'>,\n",
       " <RunInfo: artifact_uri='file:///home/kyle/Projetos/house-prices-mlflow/mlflow/notebooks/mlruns/1/48a0dd20b3f44343b644efc2bf14e83c/artifacts', end_time=1622043924321, experiment_id='1', lifecycle_stage='active', run_id='48a0dd20b3f44343b644efc2bf14e83c', run_uuid='48a0dd20b3f44343b644efc2bf14e83c', start_time=1622043911491, status='FINISHED', user_id='kyle'>]"
      ]
     },
     "execution_count": 31,
     "metadata": {},
     "output_type": "execute_result"
    }
   ],
   "source": [
    "mlflow.list_run_infos('1')"
   ]
  },
  {
   "cell_type": "code",
   "execution_count": 33,
   "id": "8e5ac434-8706-4ccd-92dc-1aa0abb750de",
   "metadata": {},
   "outputs": [
    {
     "data": {
      "text/plain": [
       "<Run: data=<RunData: metrics={'mse': 1386727460.1346002,\n",
       " 'r2': 0.8012741720529797,\n",
       " 'rmse': 37238.789724353286}, params={}, tags={'mlflow.log-model.history': '[{\"run_id\": \"ac601cfe750542e59e29c37c8c5ab29a\", '\n",
       "                             '\"artifact_path\": \"xgboost\", \"utc_time_created\": '\n",
       "                             '\"2021-05-26 15:45:29.504939\", \"flavors\": '\n",
       "                             '{\"python_function\": {\"loader_module\": '\n",
       "                             '\"mlflow.xgboost\", \"python_version\": \"3.8.5\", '\n",
       "                             '\"data\": \"model.xgb\", \"env\": \"conda.yaml\"}, '\n",
       "                             '\"xgboost\": {\"xgb_version\": \"1.4.2\", \"data\": '\n",
       "                             '\"model.xgb\"}}}]',\n",
       " 'mlflow.source.git.commit': '5fbe2e6ccbe63c62cb8b87fa690f3dc5ca350e2f',\n",
       " 'mlflow.source.name': '/home/kyle/Projetos/house-prices-mlflow/.venv/lib/python3.8/site-packages/ipykernel_launcher.py',\n",
       " 'mlflow.source.type': 'LOCAL',\n",
       " 'mlflow.user': 'kyle'}>, info=<RunInfo: artifact_uri='file:///home/kyle/Projetos/house-prices-mlflow/mlflow/notebooks/mlruns/1/ac601cfe750542e59e29c37c8c5ab29a/artifacts', end_time=1622043929531, experiment_id='1', lifecycle_stage='active', run_id='ac601cfe750542e59e29c37c8c5ab29a', run_uuid='ac601cfe750542e59e29c37c8c5ab29a', start_time=1622043929321, status='FINISHED', user_id='kyle'>>"
      ]
     },
     "execution_count": 33,
     "metadata": {},
     "output_type": "execute_result"
    }
   ],
   "source": [
    "mlflow.get_run('ac601cfe750542e59e29c37c8c5ab29a')"
   ]
  },
  {
   "cell_type": "code",
   "execution_count": 34,
   "id": "3761dd99-437a-452a-bfa1-4d995d03d7ae",
   "metadata": {},
   "outputs": [
    {
     "data": {
      "text/plain": [
       "[{'mse': 1386727460.1346002,\n",
       "  'r2': 0.8012741720529797,\n",
       "  'rmse': 37238.789724353286},\n",
       " {'mse': 2078666917.9289908,\n",
       "  'r2': 0.7021153642898048,\n",
       "  'rmse': 45592.39978251848}]"
      ]
     },
     "execution_count": 34,
     "metadata": {},
     "output_type": "execute_result"
    }
   ],
   "source": [
    "[mlflow.get_run(run.run_id).data.metrics for run in mlflow.list_run_infos('1')]"
   ]
  },
  {
   "cell_type": "code",
   "execution_count": null,
   "id": "feef8507-866b-4a16-8a8b-a75866775fc2",
   "metadata": {},
   "outputs": [],
   "source": []
  }
 ],
 "metadata": {
  "kernelspec": {
   "display_name": "Python 3",
   "language": "python",
   "name": "python3"
  },
  "language_info": {
   "codemirror_mode": {
    "name": "ipython",
    "version": 3
   },
   "file_extension": ".py",
   "mimetype": "text/x-python",
   "name": "python",
   "nbconvert_exporter": "python",
   "pygments_lexer": "ipython3",
   "version": "3.8.5"
  }
 },
 "nbformat": 4,
 "nbformat_minor": 5
}
